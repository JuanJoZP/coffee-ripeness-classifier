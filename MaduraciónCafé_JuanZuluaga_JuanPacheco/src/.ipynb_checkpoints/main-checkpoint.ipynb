{
 "cells": [
  {
   "cell_type": "markdown",
   "id": "e929aec3-275c-48eb-a096-04f186bc6c8c",
   "metadata": {},
   "source": [
    "### Entrega #2 - Juan José Zuluaga y Juan Sebastián Pacheco"
   ]
  },
  {
   "cell_type": "code",
   "execution_count": null,
   "id": "0e31408f-38a3-4d09-af0a-6ee82f4b01df",
   "metadata": {},
   "outputs": [],
   "source": [
    "import cv2\n",
    "import numpy as np\n",
    "import matplotlib.pyplot as plt\n",
    "import os"
   ]
  },
  {
   "cell_type": "code",
   "execution_count": null,
   "id": "fab7c54f-5fea-4b99-91be-e48c72af4b80",
   "metadata": {},
   "outputs": [],
   "source": [
    "image_folder = \"../imagenes\"\n",
    "image_files = os.listdir(image_folder)\n",
    "\n",
    "scale_percent = 30  \n",
    "\n",
    "for img_name in image_files:\n",
    "    img_path = os.path.join(image_folder, img_name)\n",
    "\n",
    "    img = cv2.imread(img_path)\n",
    "    width = int(img.shape[1] * scale_percent / 100)\n",
    "    height = int(img.shape[0] * scale_percent / 100)\n",
    "    img = cv2.resize(img, (width, height), interpolation=cv2.INTER_AREA)"
   ]
  }
 ],
 "metadata": {
  "kernelspec": {
   "display_name": "Python 3 (ipykernel)",
   "language": "python",
   "name": "python3"
  },
  "language_info": {
   "codemirror_mode": {
    "name": "ipython",
    "version": 3
   },
   "file_extension": ".py",
   "mimetype": "text/x-python",
   "name": "python",
   "nbconvert_exporter": "python",
   "pygments_lexer": "ipython3",
   "version": "3.12.4"
  }
 },
 "nbformat": 4,
 "nbformat_minor": 5
}
